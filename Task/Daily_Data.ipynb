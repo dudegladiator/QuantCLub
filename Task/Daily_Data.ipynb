{
  "nbformat": 4,
  "nbformat_minor": 0,
  "metadata": {
    "colab": {
      "provenance": [],
      "collapsed_sections": [
        "5JbUvVsD0LWa",
        "wImr_UF05jmJ",
        "7lchVdVzE1YF",
        "29rWQQD8N6eK",
        "Na3DDYZ0HMmr",
        "90TFH8B5OCJZ",
        "CV7Z6SlBOSIv",
        "tTW-UwGGM-oO"
      ]
    },
    "kernelspec": {
      "name": "python3",
      "display_name": "Python 3"
    },
    "language_info": {
      "name": "python"
    }
  },
  "cells": [
    {
      "cell_type": "markdown",
      "source": [
        "Type ctrl +F9"
      ],
      "metadata": {
        "id": "gQfjz_1Q1X69"
      }
    },
    {
      "cell_type": "code",
      "execution_count": null,
      "metadata": {
        "id": "FV0Fciqpy3aR"
      },
      "outputs": [],
      "source": [
        "import pandas as pd\n",
        "import numpy as np\n",
        "import matplotlib.pyplot as plt\n",
        "from sklearn.linear_model import LinearRegression\n",
        "import statsmodels.api as sm"
      ]
    },
    {
      "cell_type": "code",
      "source": [
        "st=pd.read_csv(\"https://raw.githubusercontent.com/dudegladiator/Testing/main/train.csv\")"
      ],
      "metadata": {
        "id": "9fXT2iNYzM6J"
      },
      "execution_count": null,
      "outputs": []
    },
    {
      "cell_type": "code",
      "source": [
        "st.head()"
      ],
      "metadata": {
        "colab": {
          "base_uri": "https://localhost:8080/",
          "height": 206
        },
        "id": "9KOiRN4tzgiH",
        "outputId": "92e406d6-1821-4ec1-9bc5-fe466025c293"
      },
      "execution_count": null,
      "outputs": [
        {
          "output_type": "execute_result",
          "data": {
            "text/plain": [
              "         Date        Open        High         Low       Close   Adj Close  \\\n",
              "0  2022-01-03  335.350006  338.000000  329.779999  334.750000  330.813843   \n",
              "1  2022-01-04  334.829987  335.200012  326.119995  329.010010  325.141357   \n",
              "2  2022-01-05  325.859985  326.070007  315.980011  316.380005  312.659882   \n",
              "3  2022-01-06  313.149994  318.700012  311.489990  313.880005  310.189270   \n",
              "4  2022-01-07  314.149994  316.500000  310.089996  314.040009  310.347412   \n",
              "\n",
              "     Volume  \n",
              "0  28865100  \n",
              "1  32674300  \n",
              "2  40054300  \n",
              "3  39646100  \n",
              "4  32720000  "
            ],
            "text/html": [
              "\n",
              "  <div id=\"df-626875dd-592e-486e-9f70-f421d898d00d\">\n",
              "    <div class=\"colab-df-container\">\n",
              "      <div>\n",
              "<style scoped>\n",
              "    .dataframe tbody tr th:only-of-type {\n",
              "        vertical-align: middle;\n",
              "    }\n",
              "\n",
              "    .dataframe tbody tr th {\n",
              "        vertical-align: top;\n",
              "    }\n",
              "\n",
              "    .dataframe thead th {\n",
              "        text-align: right;\n",
              "    }\n",
              "</style>\n",
              "<table border=\"1\" class=\"dataframe\">\n",
              "  <thead>\n",
              "    <tr style=\"text-align: right;\">\n",
              "      <th></th>\n",
              "      <th>Date</th>\n",
              "      <th>Open</th>\n",
              "      <th>High</th>\n",
              "      <th>Low</th>\n",
              "      <th>Close</th>\n",
              "      <th>Adj Close</th>\n",
              "      <th>Volume</th>\n",
              "    </tr>\n",
              "  </thead>\n",
              "  <tbody>\n",
              "    <tr>\n",
              "      <th>0</th>\n",
              "      <td>2022-01-03</td>\n",
              "      <td>335.350006</td>\n",
              "      <td>338.000000</td>\n",
              "      <td>329.779999</td>\n",
              "      <td>334.750000</td>\n",
              "      <td>330.813843</td>\n",
              "      <td>28865100</td>\n",
              "    </tr>\n",
              "    <tr>\n",
              "      <th>1</th>\n",
              "      <td>2022-01-04</td>\n",
              "      <td>334.829987</td>\n",
              "      <td>335.200012</td>\n",
              "      <td>326.119995</td>\n",
              "      <td>329.010010</td>\n",
              "      <td>325.141357</td>\n",
              "      <td>32674300</td>\n",
              "    </tr>\n",
              "    <tr>\n",
              "      <th>2</th>\n",
              "      <td>2022-01-05</td>\n",
              "      <td>325.859985</td>\n",
              "      <td>326.070007</td>\n",
              "      <td>315.980011</td>\n",
              "      <td>316.380005</td>\n",
              "      <td>312.659882</td>\n",
              "      <td>40054300</td>\n",
              "    </tr>\n",
              "    <tr>\n",
              "      <th>3</th>\n",
              "      <td>2022-01-06</td>\n",
              "      <td>313.149994</td>\n",
              "      <td>318.700012</td>\n",
              "      <td>311.489990</td>\n",
              "      <td>313.880005</td>\n",
              "      <td>310.189270</td>\n",
              "      <td>39646100</td>\n",
              "    </tr>\n",
              "    <tr>\n",
              "      <th>4</th>\n",
              "      <td>2022-01-07</td>\n",
              "      <td>314.149994</td>\n",
              "      <td>316.500000</td>\n",
              "      <td>310.089996</td>\n",
              "      <td>314.040009</td>\n",
              "      <td>310.347412</td>\n",
              "      <td>32720000</td>\n",
              "    </tr>\n",
              "  </tbody>\n",
              "</table>\n",
              "</div>\n",
              "      <button class=\"colab-df-convert\" onclick=\"convertToInteractive('df-626875dd-592e-486e-9f70-f421d898d00d')\"\n",
              "              title=\"Convert this dataframe to an interactive table.\"\n",
              "              style=\"display:none;\">\n",
              "        \n",
              "  <svg xmlns=\"http://www.w3.org/2000/svg\" height=\"24px\"viewBox=\"0 0 24 24\"\n",
              "       width=\"24px\">\n",
              "    <path d=\"M0 0h24v24H0V0z\" fill=\"none\"/>\n",
              "    <path d=\"M18.56 5.44l.94 2.06.94-2.06 2.06-.94-2.06-.94-.94-2.06-.94 2.06-2.06.94zm-11 1L8.5 8.5l.94-2.06 2.06-.94-2.06-.94L8.5 2.5l-.94 2.06-2.06.94zm10 10l.94 2.06.94-2.06 2.06-.94-2.06-.94-.94-2.06-.94 2.06-2.06.94z\"/><path d=\"M17.41 7.96l-1.37-1.37c-.4-.4-.92-.59-1.43-.59-.52 0-1.04.2-1.43.59L10.3 9.45l-7.72 7.72c-.78.78-.78 2.05 0 2.83L4 21.41c.39.39.9.59 1.41.59.51 0 1.02-.2 1.41-.59l7.78-7.78 2.81-2.81c.8-.78.8-2.07 0-2.86zM5.41 20L4 18.59l7.72-7.72 1.47 1.35L5.41 20z\"/>\n",
              "  </svg>\n",
              "      </button>\n",
              "      \n",
              "  <style>\n",
              "    .colab-df-container {\n",
              "      display:flex;\n",
              "      flex-wrap:wrap;\n",
              "      gap: 12px;\n",
              "    }\n",
              "\n",
              "    .colab-df-convert {\n",
              "      background-color: #E8F0FE;\n",
              "      border: none;\n",
              "      border-radius: 50%;\n",
              "      cursor: pointer;\n",
              "      display: none;\n",
              "      fill: #1967D2;\n",
              "      height: 32px;\n",
              "      padding: 0 0 0 0;\n",
              "      width: 32px;\n",
              "    }\n",
              "\n",
              "    .colab-df-convert:hover {\n",
              "      background-color: #E2EBFA;\n",
              "      box-shadow: 0px 1px 2px rgba(60, 64, 67, 0.3), 0px 1px 3px 1px rgba(60, 64, 67, 0.15);\n",
              "      fill: #174EA6;\n",
              "    }\n",
              "\n",
              "    [theme=dark] .colab-df-convert {\n",
              "      background-color: #3B4455;\n",
              "      fill: #D2E3FC;\n",
              "    }\n",
              "\n",
              "    [theme=dark] .colab-df-convert:hover {\n",
              "      background-color: #434B5C;\n",
              "      box-shadow: 0px 1px 3px 1px rgba(0, 0, 0, 0.15);\n",
              "      filter: drop-shadow(0px 1px 2px rgba(0, 0, 0, 0.3));\n",
              "      fill: #FFFFFF;\n",
              "    }\n",
              "  </style>\n",
              "\n",
              "      <script>\n",
              "        const buttonEl =\n",
              "          document.querySelector('#df-626875dd-592e-486e-9f70-f421d898d00d button.colab-df-convert');\n",
              "        buttonEl.style.display =\n",
              "          google.colab.kernel.accessAllowed ? 'block' : 'none';\n",
              "\n",
              "        async function convertToInteractive(key) {\n",
              "          const element = document.querySelector('#df-626875dd-592e-486e-9f70-f421d898d00d');\n",
              "          const dataTable =\n",
              "            await google.colab.kernel.invokeFunction('convertToInteractive',\n",
              "                                                     [key], {});\n",
              "          if (!dataTable) return;\n",
              "\n",
              "          const docLinkHtml = 'Like what you see? Visit the ' +\n",
              "            '<a target=\"_blank\" href=https://colab.research.google.com/notebooks/data_table.ipynb>data table notebook</a>'\n",
              "            + ' to learn more about interactive tables.';\n",
              "          element.innerHTML = '';\n",
              "          dataTable['output_type'] = 'display_data';\n",
              "          await google.colab.output.renderOutput(dataTable, element);\n",
              "          const docLink = document.createElement('div');\n",
              "          docLink.innerHTML = docLinkHtml;\n",
              "          element.appendChild(docLink);\n",
              "        }\n",
              "      </script>\n",
              "    </div>\n",
              "  </div>\n",
              "  "
            ]
          },
          "metadata": {},
          "execution_count": 3
        }
      ]
    },
    {
      "cell_type": "code",
      "source": [
        "st=st.drop(labels=[\"Date\",\"Open\",\"High\",\"Low\",\"Close\"],axis=1)"
      ],
      "metadata": {
        "id": "xF3BJz9vzRzi"
      },
      "execution_count": null,
      "outputs": []
    },
    {
      "cell_type": "markdown",
      "source": [
        "# **Correlation Coefficient**"
      ],
      "metadata": {
        "id": "5JbUvVsD0LWa"
      }
    },
    {
      "cell_type": "markdown",
      "source": [
        "Finding the correlation between stock price and volume"
      ],
      "metadata": {
        "id": "UCLt7frj2Jqb"
      }
    },
    {
      "cell_type": "code",
      "source": [
        "st[\"Adj Close\"].corr(st[\"Volume\"])"
      ],
      "metadata": {
        "colab": {
          "base_uri": "https://localhost:8080/"
        },
        "id": "2JrOqtNxzRwC",
        "outputId": "6931e0e9-4511-4df5-8589-8a285e757aff"
      },
      "execution_count": null,
      "outputs": [
        {
          "output_type": "execute_result",
          "data": {
            "text/plain": [
              "0.14781846713930535"
            ]
          },
          "metadata": {},
          "execution_count": 5
        }
      ]
    },
    {
      "cell_type": "code",
      "source": [
        "plt.scatter(st[\"Volume\"], st[\"Adj Close\"],color='r')\n",
        "plt.title(\"Stock Price vs. Volume: A Scatter Plot Analysis\")\n",
        "plt.xlabel(\"Volume\")\n",
        "plt.ylabel(\"Stock Price\")\n",
        "plt.savefig('Correlation Coefficeint') #To download this plot"
      ],
      "metadata": {
        "id": "dYLaKFU00UhD",
        "colab": {
          "base_uri": "https://localhost:8080/",
          "height": 472
        },
        "outputId": "1fb5c671-e66e-458e-8c54-50f6d521a186"
      },
      "execution_count": null,
      "outputs": [
        {
          "output_type": "display_data",
          "data": {
            "text/plain": [
              "<Figure size 640x480 with 1 Axes>"
            ],
            "image/png": "[encoded data removed]"
          },
          "metadata": {}
        }
      ]
    },
    {
      "cell_type": "markdown",
      "source": [
        "# **Regression analysis**"
      ],
      "metadata": {
        "id": "wImr_UF05jmJ"
      }
    },
    {
      "cell_type": "markdown",
      "source": [
        "### Manually"
      ],
      "metadata": {
        "id": "xucX0am2CtCT"
      }
    },
    {
      "cell_type": "markdown",
      "source": [
        "Using Matrix"
      ],
      "metadata": {
        "id": "htm89g9o2RKZ"
      }
    },
    {
      "cell_type": "code",
      "source": [
        "Y=st[[\"Adj Close\"]].copy()\n",
        "X=st[[\"Volume\"]].copy()"
      ],
      "metadata": {
        "id": "vCi8lRPuCzIc"
      },
      "execution_count": null,
      "outputs": []
    },
    {
      "cell_type": "code",
      "source": [
        "X[\"intercept\"]=1\n",
        "X=X[[\"Volume\",\"intercept\"]]"
      ],
      "metadata": {
        "id": "dOB38H10CzE2"
      },
      "execution_count": null,
      "outputs": []
    },
    {
      "cell_type": "code",
      "source": [
        "X_T=X.T\n",
        "B=np.linalg.inv(X_T @ X) @ X_T @ Y"
      ],
      "metadata": {
        "id": "iMcrn0yECzCf"
      },
      "execution_count": null,
      "outputs": []
    },
    {
      "cell_type": "code",
      "source": [
        "B"
      ],
      "metadata": {
        "colab": {
          "base_uri": "https://localhost:8080/"
        },
        "id": "rj9_RkWRCy3U",
        "outputId": "5c26466c-15d8-4b9e-e3bd-756387e4f70c"
      },
      "execution_count": null,
      "outputs": [
        {
          "output_type": "execute_result",
          "data": {
            "text/plain": [
              "      Adj Close\n",
              "0  3.211609e-07\n",
              "1  2.568475e+02"
            ],
            "text/html": [
              "\n",
              "  <div id=\"df-6dc34f90-7678-47a2-b04a-486e0cdb9163\">\n",
              "    <div class=\"colab-df-container\">\n",
              "      <div>\n",
              "<style scoped>\n",
              "    .dataframe tbody tr th:only-of-type {\n",
              "        vertical-align: middle;\n",
              "    }\n",
              "\n",
              "    .dataframe tbody tr th {\n",
              "        vertical-align: top;\n",
              "    }\n",
              "\n",
              "    .dataframe thead th {\n",
              "        text-align: right;\n",
              "    }\n",
              "</style>\n",
              "<table border=\"1\" class=\"dataframe\">\n",
              "  <thead>\n",
              "    <tr style=\"text-align: right;\">\n",
              "      <th></th>\n",
              "      <th>Adj Close</th>\n",
              "    </tr>\n",
              "  </thead>\n",
              "  <tbody>\n",
              "    <tr>\n",
              "      <th>0</th>\n",
              "      <td>3.211609e-07</td>\n",
              "    </tr>\n",
              "    <tr>\n",
              "      <th>1</th>\n",
              "      <td>2.568475e+02</td>\n",
              "    </tr>\n",
              "  </tbody>\n",
              "</table>\n",
              "</div>\n",
              "      <button class=\"colab-df-convert\" onclick=\"convertToInteractive('df-6dc34f90-7678-47a2-b04a-486e0cdb9163')\"\n",
              "              title=\"Convert this dataframe to an interactive table.\"\n",
              "              style=\"display:none;\">\n",
              "        \n",
              "  <svg xmlns=\"http://www.w3.org/2000/svg\" height=\"24px\"viewBox=\"0 0 24 24\"\n",
              "       width=\"24px\">\n",
              "    <path d=\"M0 0h24v24H0V0z\" fill=\"none\"/>\n",
              "    <path d=\"M18.56 5.44l.94 2.06.94-2.06 2.06-.94-2.06-.94-.94-2.06-.94 2.06-2.06.94zm-11 1L8.5 8.5l.94-2.06 2.06-.94-2.06-.94L8.5 2.5l-.94 2.06-2.06.94zm10 10l.94 2.06.94-2.06 2.06-.94-2.06-.94-.94-2.06-.94 2.06-2.06.94z\"/><path d=\"M17.41 7.96l-1.37-1.37c-.4-.4-.92-.59-1.43-.59-.52 0-1.04.2-1.43.59L10.3 9.45l-7.72 7.72c-.78.78-.78 2.05 0 2.83L4 21.41c.39.39.9.59 1.41.59.51 0 1.02-.2 1.41-.59l7.78-7.78 2.81-2.81c.8-.78.8-2.07 0-2.86zM5.41 20L4 18.59l7.72-7.72 1.47 1.35L5.41 20z\"/>\n",
              "  </svg>\n",
              "      </button>\n",
              "      \n",
              "  <style>\n",
              "    .colab-df-container {\n",
              "      display:flex;\n",
              "      flex-wrap:wrap;\n",
              "      gap: 12px;\n",
              "    }\n",
              "\n",
              "    .colab-df-convert {\n",
              "      background-color: #E8F0FE;\n",
              "      border: none;\n",
              "      border-radius: 50%;\n",
              "      cursor: pointer;\n",
              "      display: none;\n",
              "      fill: #1967D2;\n",
              "      height: 32px;\n",
              "      padding: 0 0 0 0;\n",
              "      width: 32px;\n",
              "    }\n",
              "\n",
              "    .colab-df-convert:hover {\n",
              "      background-color: #E2EBFA;\n",
              "      box-shadow: 0px 1px 2px rgba(60, 64, 67, 0.3), 0px 1px 3px 1px rgba(60, 64, 67, 0.15);\n",
              "      fill: #174EA6;\n",
              "    }\n",
              "\n",
              "    [theme=dark] .colab-df-convert {\n",
              "      background-color: #3B4455;\n",
              "      fill: #D2E3FC;\n",
              "    }\n",
              "\n",
              "    [theme=dark] .colab-df-convert:hover {\n",
              "      background-color: #434B5C;\n",
              "      box-shadow: 0px 1px 3px 1px rgba(0, 0, 0, 0.15);\n",
              "      filter: drop-shadow(0px 1px 2px rgba(0, 0, 0, 0.3));\n",
              "      fill: #FFFFFF;\n",
              "    }\n",
              "  </style>\n",
              "\n",
              "      <script>\n",
              "        const buttonEl =\n",
              "          document.querySelector('#df-6dc34f90-7678-47a2-b04a-486e0cdb9163 button.colab-df-convert');\n",
              "        buttonEl.style.display =\n",
              "          google.colab.kernel.accessAllowed ? 'block' : 'none';\n",
              "\n",
              "        async function convertToInteractive(key) {\n",
              "          const element = document.querySelector('#df-6dc34f90-7678-47a2-b04a-486e0cdb9163');\n",
              "          const dataTable =\n",
              "            await google.colab.kernel.invokeFunction('convertToInteractive',\n",
              "                                                     [key], {});\n",
              "          if (!dataTable) return;\n",
              "\n",
              "          const docLinkHtml = 'Like what you see? Visit the ' +\n",
              "            '<a target=\"_blank\" href=https://colab.research.google.com/notebooks/data_table.ipynb>data table notebook</a>'\n",
              "            + ' to learn more about interactive tables.';\n",
              "          element.innerHTML = '';\n",
              "          dataTable['output_type'] = 'display_data';\n",
              "          await google.colab.output.renderOutput(dataTable, element);\n",
              "          const docLink = document.createElement('div');\n",
              "          docLink.innerHTML = docLinkHtml;\n",
              "          element.appendChild(docLink);\n",
              "        }\n",
              "      </script>\n",
              "    </div>\n",
              "  </div>\n",
              "  "
            ]
          },
          "metadata": {},
          "execution_count": 10
        }
      ]
    },
    {
      "cell_type": "markdown",
      "source": [
        "### With the help of  Function"
      ],
      "metadata": {
        "id": "5j7NT-b6DR5X"
      }
    },
    {
      "cell_type": "code",
      "source": [
        "x=st[[\"Volume\"]].copy()"
      ],
      "metadata": {
        "id": "vNptUywH0Udx"
      },
      "execution_count": null,
      "outputs": []
    },
    {
      "cell_type": "code",
      "source": [
        "y=st[[\"Adj Close\"]].copy()"
      ],
      "metadata": {
        "id": "TpFQaTEo0UV5"
      },
      "execution_count": null,
      "outputs": []
    },
    {
      "cell_type": "markdown",
      "source": [
        "using Linear regressor function"
      ],
      "metadata": {
        "id": "mAgk1Pnz2VZ3"
      }
    },
    {
      "cell_type": "code",
      "source": [
        "regressor=LinearRegression()\n",
        "result1=regressor.fit(x,y)"
      ],
      "metadata": {
        "id": "P5N-xrrb0USj"
      },
      "execution_count": null,
      "outputs": []
    },
    {
      "cell_type": "code",
      "source": [
        "y_predict1=result1.predict(x)"
      ],
      "metadata": {
        "id": "O1xz4ytP9SRa"
      },
      "execution_count": null,
      "outputs": []
    },
    {
      "cell_type": "code",
      "source": [
        "plt.scatter(x,y,color='g')\n",
        "plt.plot(x,y_predict1,color='k')\n",
        "plt.title(\"Linear Regression\")\n",
        "plt.xlabel(\"Volume\")\n",
        "plt.ylabel(\"Stock Price\")\n",
        "plt.savefig(\"Linear Regression\") # Saving the figure (Present in the report)"
      ],
      "metadata": {
        "colab": {
          "base_uri": "https://localhost:8080/"
        },
        "id": "95W4tWBT9Spb",
        "outputId": "6c3bdeef-a6de-493c-ea8e-6b1d243e030c"
      },
      "execution_count": null,
      "outputs": [
        {
          "output_type": "display_data",
          "data": {
            "text/plain": [
              "<Figure size 640x480 with 1 Axes>"
            ],
            "image/png": "[encoded data removed]"
          },
          "metadata": {}
        }
      ]
    },
    {
      "cell_type": "markdown",
      "source": [
        "# **Outliers**"
      ],
      "metadata": {
        "id": "7lchVdVzE1YF"
      }
    },
    {
      "cell_type": "markdown",
      "source": [
        "### Drawing Leverage Plot"
      ],
      "metadata": {
        "id": "29rWQQD8N6eK"
      }
    },
    {
      "cell_type": "code",
      "source": [
        "model = sm.OLS(y, sm.add_constant(x)).fit()"
      ],
      "metadata": {
        "id": "NTCq5jWb9S2X"
      },
      "execution_count": null,
      "outputs": []
    },
    {
      "cell_type": "code",
      "source": [
        "sm.graphics.influence_plot(model)\n",
        "plt.savefig(\"Leverage plots\")"
      ],
      "metadata": {
        "colab": {
          "base_uri": "https://localhost:8080/"
        },
        "id": "pius1j619TPE",
        "outputId": "64f27558-1f2d-4365-8a07-2b8765cf4ca9"
      },
      "execution_count": null,
      "outputs": [
        {
          "output_type": "display_data",
          "data": {
            "text/plain": [
              "<Figure size 640x480 with 1 Axes>"
            ],
            "image/png": "[encoded data removed]"
          },
          "metadata": {}
        }
      ]
    },
    {
      "cell_type": "markdown",
      "source": [
        "### Removing outliers"
      ],
      "metadata": {
        "id": "Na3DDYZ0HMmr"
      }
    },
    {
      "cell_type": "code",
      "source": [
        "stand_resids = model.resid_pearson                                 #Finding the Standardized residual"
      ],
      "metadata": {
        "id": "t7Jnu9C09ToL"
      },
      "execution_count": null,
      "outputs": []
    },
    {
      "cell_type": "code",
      "source": [
        "newst=st\n",
        "newst=pd.concat([newst,pd.DataFrame(stand_resids)],axis=1)\n",
        "newst=newst.rename(columns={0:\"stand_resids\"})"
      ],
      "metadata": {
        "id": "9nD1kf-bHbzU"
      },
      "execution_count": null,
      "outputs": []
    },
    {
      "cell_type": "code",
      "source": [
        "newst"
      ],
      "metadata": {
        "id": "kpmwjCzVHbwH",
        "colab": {
          "base_uri": "https://localhost:8080/"
        },
        "outputId": "9b962215-ed6a-484e-9340-30806719684d"
      },
      "execution_count": null,
      "outputs": [
        {
          "output_type": "execute_result",
          "data": {
            "text/plain": [
              "      Adj Close    Volume  stand_resids\n",
              "0    330.813843  28865100      2.616506\n",
              "1    325.141357  32674300      2.337616\n",
              "2    312.659882  40054300      1.736969\n",
              "3    310.189270  39646100      1.642352\n",
              "4    310.347412  32720000      1.738709\n",
              "..          ...       ...           ...\n",
              "246  238.133545  21207000     -1.032305\n",
              "247  236.367981  16688600     -1.045022\n",
              "248  233.944031  17457100     -1.153035\n",
              "249  240.407837  19770700     -0.921670\n",
              "250  239.220825  21938500     -0.997833\n",
              "\n",
              "[251 rows x 3 columns]"
            ],
            "text/html": [
              "\n",
              "  <div id=\"df-85d0251c-3f9e-4ebc-a9fd-c9b8e9a41cd1\">\n",
              "    <div class=\"colab-df-container\">\n",
              "      <div>\n",
              "<style scoped>\n",
              "    .dataframe tbody tr th:only-of-type {\n",
              "        vertical-align: middle;\n",
              "    }\n",
              "\n",
              "    .dataframe tbody tr th {\n",
              "        vertical-align: top;\n",
              "    }\n",
              "\n",
              "    .dataframe thead th {\n",
              "        text-align: right;\n",
              "    }\n",
              "</style>\n",
              "<table border=\"1\" class=\"dataframe\">\n",
              "  <thead>\n",
              "    <tr style=\"text-align: right;\">\n",
              "      <th></th>\n",
              "      <th>Adj Close</th>\n",
              "      <th>Volume</th>\n",
              "      <th>stand_resids</th>\n",
              "    </tr>\n",
              "  </thead>\n",
              "  <tbody>\n",
              "    <tr>\n",
              "      <th>0</th>\n",
              "      <td>330.813843</td>\n",
              "      <td>28865100</td>\n",
              "      <td>2.616506</td>\n",
              "    </tr>\n",
              "    <tr>\n",
              "      <th>1</th>\n",
              "      <td>325.141357</td>\n",
              "      <td>32674300</td>\n",
              "      <td>2.337616</td>\n",
              "    </tr>\n",
              "    <tr>\n",
              "      <th>2</th>\n",
              "      <td>312.659882</td>\n",
              "      <td>40054300</td>\n",
              "      <td>1.736969</td>\n",
              "    </tr>\n",
              "    <tr>\n",
              "      <th>3</th>\n",
              "      <td>310.189270</td>\n",
              "      <td>39646100</td>\n",
              "      <td>1.642352</td>\n",
              "    </tr>\n",
              "    <tr>\n",
              "      <th>4</th>\n",
              "      <td>310.347412</td>\n",
              "      <td>32720000</td>\n",
              "      <td>1.738709</td>\n",
              "    </tr>\n",
              "    <tr>\n",
              "      <th>...</th>\n",
              "      <td>...</td>\n",
              "      <td>...</td>\n",
              "      <td>...</td>\n",
              "    </tr>\n",
              "    <tr>\n",
              "      <th>246</th>\n",
              "      <td>238.133545</td>\n",
              "      <td>21207000</td>\n",
              "      <td>-1.032305</td>\n",
              "    </tr>\n",
              "    <tr>\n",
              "      <th>247</th>\n",
              "      <td>236.367981</td>\n",
              "      <td>16688600</td>\n",
              "      <td>-1.045022</td>\n",
              "    </tr>\n",
              "    <tr>\n",
              "      <th>248</th>\n",
              "      <td>233.944031</td>\n",
              "      <td>17457100</td>\n",
              "      <td>-1.153035</td>\n",
              "    </tr>\n",
              "    <tr>\n",
              "      <th>249</th>\n",
              "      <td>240.407837</td>\n",
              "      <td>19770700</td>\n",
              "      <td>-0.921670</td>\n",
              "    </tr>\n",
              "    <tr>\n",
              "      <th>250</th>\n",
              "      <td>239.220825</td>\n",
              "      <td>21938500</td>\n",
              "      <td>-0.997833</td>\n",
              "    </tr>\n",
              "  </tbody>\n",
              "</table>\n",
              "<p>251 rows × 3 columns</p>\n",
              "</div>\n",
              "      <button class=\"colab-df-convert\" onclick=\"convertToInteractive('df-85d0251c-3f9e-4ebc-a9fd-c9b8e9a41cd1')\"\n",
              "              title=\"Convert this dataframe to an interactive table.\"\n",
              "              style=\"display:none;\">\n",
              "        \n",
              "  <svg xmlns=\"http://www.w3.org/2000/svg\" height=\"24px\"viewBox=\"0 0 24 24\"\n",
              "       width=\"24px\">\n",
              "    <path d=\"M0 0h24v24H0V0z\" fill=\"none\"/>\n",
              "    <path d=\"M18.56 5.44l.94 2.06.94-2.06 2.06-.94-2.06-.94-.94-2.06-.94 2.06-2.06.94zm-11 1L8.5 8.5l.94-2.06 2.06-.94-2.06-.94L8.5 2.5l-.94 2.06-2.06.94zm10 10l.94 2.06.94-2.06 2.06-.94-2.06-.94-.94-2.06-.94 2.06-2.06.94z\"/><path d=\"M17.41 7.96l-1.37-1.37c-.4-.4-.92-.59-1.43-.59-.52 0-1.04.2-1.43.59L10.3 9.45l-7.72 7.72c-.78.78-.78 2.05 0 2.83L4 21.41c.39.39.9.59 1.41.59.51 0 1.02-.2 1.41-.59l7.78-7.78 2.81-2.81c.8-.78.8-2.07 0-2.86zM5.41 20L4 18.59l7.72-7.72 1.47 1.35L5.41 20z\"/>\n",
              "  </svg>\n",
              "      </button>\n",
              "      \n",
              "  <style>\n",
              "    .colab-df-container {\n",
              "      display:flex;\n",
              "      flex-wrap:wrap;\n",
              "      gap: 12px;\n",
              "    }\n",
              "\n",
              "    .colab-df-convert {\n",
              "      background-color: #E8F0FE;\n",
              "      border: none;\n",
              "      border-radius: 50%;\n",
              "      cursor: pointer;\n",
              "      display: none;\n",
              "      fill: #1967D2;\n",
              "      height: 32px;\n",
              "      padding: 0 0 0 0;\n",
              "      width: 32px;\n",
              "    }\n",
              "\n",
              "    .colab-df-convert:hover {\n",
              "      background-color: #E2EBFA;\n",
              "      box-shadow: 0px 1px 2px rgba(60, 64, 67, 0.3), 0px 1px 3px 1px rgba(60, 64, 67, 0.15);\n",
              "      fill: #174EA6;\n",
              "    }\n",
              "\n",
              "    [theme=dark] .colab-df-convert {\n",
              "      background-color: #3B4455;\n",
              "      fill: #D2E3FC;\n",
              "    }\n",
              "\n",
              "    [theme=dark] .colab-df-convert:hover {\n",
              "      background-color: #434B5C;\n",
              "      box-shadow: 0px 1px 3px 1px rgba(0, 0, 0, 0.15);\n",
              "      filter: drop-shadow(0px 1px 2px rgba(0, 0, 0, 0.3));\n",
              "      fill: #FFFFFF;\n",
              "    }\n",
              "  </style>\n",
              "\n",
              "      <script>\n",
              "        const buttonEl =\n",
              "          document.querySelector('#df-85d0251c-3f9e-4ebc-a9fd-c9b8e9a41cd1 button.colab-df-convert');\n",
              "        buttonEl.style.display =\n",
              "          google.colab.kernel.accessAllowed ? 'block' : 'none';\n",
              "\n",
              "        async function convertToInteractive(key) {\n",
              "          const element = document.querySelector('#df-85d0251c-3f9e-4ebc-a9fd-c9b8e9a41cd1');\n",
              "          const dataTable =\n",
              "            await google.colab.kernel.invokeFunction('convertToInteractive',\n",
              "                                                     [key], {});\n",
              "          if (!dataTable) return;\n",
              "\n",
              "          const docLinkHtml = 'Like what you see? Visit the ' +\n",
              "            '<a target=\"_blank\" href=https://colab.research.google.com/notebooks/data_table.ipynb>data table notebook</a>'\n",
              "            + ' to learn more about interactive tables.';\n",
              "          element.innerHTML = '';\n",
              "          dataTable['output_type'] = 'display_data';\n",
              "          await google.colab.output.renderOutput(dataTable, element);\n",
              "          const docLink = document.createElement('div');\n",
              "          docLink.innerHTML = docLinkHtml;\n",
              "          element.appendChild(docLink);\n",
              "        }\n",
              "      </script>\n",
              "    </div>\n",
              "  </div>\n",
              "  "
            ]
          },
          "metadata": {},
          "execution_count": 20
        }
      ]
    },
    {
      "cell_type": "code",
      "source": [
        "newst.to_csv(\"WithOutliers.csv\")"
      ],
      "metadata": {
        "id": "O2UTQl6Kh6x-"
      },
      "execution_count": null,
      "outputs": []
    },
    {
      "cell_type": "markdown",
      "source": [
        "removing the standard residual whose value is more than 1.90 or less than -1.90"
      ],
      "metadata": {
        "id": "Gccv4_4024fn"
      }
    },
    {
      "cell_type": "code",
      "source": [
        "newst.drop(newst[(newst['stand_resids'] >= 1.90) | (newst['stand_resids'] <= -1.90) ].index, inplace = True)"
      ],
      "metadata": {
        "id": "-hAGLuQpHbtn"
      },
      "execution_count": null,
      "outputs": []
    },
    {
      "cell_type": "code",
      "source": [
        "newst"
      ],
      "metadata": {
        "id": "hG53-stzHbri",
        "colab": {
          "base_uri": "https://localhost:8080/"
        },
        "outputId": "b8390eeb-3c22-4724-c17e-4330006dd0c3"
      },
      "execution_count": null,
      "outputs": [
        {
          "output_type": "execute_result",
          "data": {
            "text/plain": [
              "      Adj Close    Volume  stand_resids\n",
              "2    312.659882  40054300      1.736969\n",
              "3    310.189270  39646100      1.642352\n",
              "4    310.347412  32720000      1.738709\n",
              "5    310.574677  44289500      1.597627\n",
              "6    311.276337  29386800      1.819572\n",
              "..          ...       ...           ...\n",
              "246  238.133545  21207000     -1.032305\n",
              "247  236.367981  16688600     -1.045022\n",
              "248  233.944031  17457100     -1.153035\n",
              "249  240.407837  19770700     -0.921670\n",
              "250  239.220825  21938500     -0.997833\n",
              "\n",
              "[244 rows x 3 columns]"
            ],
            "text/html": [
              "\n",
              "  <div id=\"df-83c78854-1e6f-42f8-8a96-aa17a8194881\">\n",
              "    <div class=\"colab-df-container\">\n",
              "      <div>\n",
              "<style scoped>\n",
              "    .dataframe tbody tr th:only-of-type {\n",
              "        vertical-align: middle;\n",
              "    }\n",
              "\n",
              "    .dataframe tbody tr th {\n",
              "        vertical-align: top;\n",
              "    }\n",
              "\n",
              "    .dataframe thead th {\n",
              "        text-align: right;\n",
              "    }\n",
              "</style>\n",
              "<table border=\"1\" class=\"dataframe\">\n",
              "  <thead>\n",
              "    <tr style=\"text-align: right;\">\n",
              "      <th></th>\n",
              "      <th>Adj Close</th>\n",
              "      <th>Volume</th>\n",
              "      <th>stand_resids</th>\n",
              "    </tr>\n",
              "  </thead>\n",
              "  <tbody>\n",
              "    <tr>\n",
              "      <th>2</th>\n",
              "      <td>312.659882</td>\n",
              "      <td>40054300</td>\n",
              "      <td>1.736969</td>\n",
              "    </tr>\n",
              "    <tr>\n",
              "      <th>3</th>\n",
              "      <td>310.189270</td>\n",
              "      <td>39646100</td>\n",
              "      <td>1.642352</td>\n",
              "    </tr>\n",
              "    <tr>\n",
              "      <th>4</th>\n",
              "      <td>310.347412</td>\n",
              "      <td>32720000</td>\n",
              "      <td>1.738709</td>\n",
              "    </tr>\n",
              "    <tr>\n",
              "      <th>5</th>\n",
              "      <td>310.574677</td>\n",
              "      <td>44289500</td>\n",
              "      <td>1.597627</td>\n",
              "    </tr>\n",
              "    <tr>\n",
              "      <th>6</th>\n",
              "      <td>311.276337</td>\n",
              "      <td>29386800</td>\n",
              "      <td>1.819572</td>\n",
              "    </tr>\n",
              "    <tr>\n",
              "      <th>...</th>\n",
              "      <td>...</td>\n",
              "      <td>...</td>\n",
              "      <td>...</td>\n",
              "    </tr>\n",
              "    <tr>\n",
              "      <th>246</th>\n",
              "      <td>238.133545</td>\n",
              "      <td>21207000</td>\n",
              "      <td>-1.032305</td>\n",
              "    </tr>\n",
              "    <tr>\n",
              "      <th>247</th>\n",
              "      <td>236.367981</td>\n",
              "      <td>16688600</td>\n",
              "      <td>-1.045022</td>\n",
              "    </tr>\n",
              "    <tr>\n",
              "      <th>248</th>\n",
              "      <td>233.944031</td>\n",
              "      <td>17457100</td>\n",
              "      <td>-1.153035</td>\n",
              "    </tr>\n",
              "    <tr>\n",
              "      <th>249</th>\n",
              "      <td>240.407837</td>\n",
              "      <td>19770700</td>\n",
              "      <td>-0.921670</td>\n",
              "    </tr>\n",
              "    <tr>\n",
              "      <th>250</th>\n",
              "      <td>239.220825</td>\n",
              "      <td>21938500</td>\n",
              "      <td>-0.997833</td>\n",
              "    </tr>\n",
              "  </tbody>\n",
              "</table>\n",
              "<p>244 rows × 3 columns</p>\n",
              "</div>\n",
              "      <button class=\"colab-df-convert\" onclick=\"convertToInteractive('df-83c78854-1e6f-42f8-8a96-aa17a8194881')\"\n",
              "              title=\"Convert this dataframe to an interactive table.\"\n",
              "              style=\"display:none;\">\n",
              "        \n",
              "  <svg xmlns=\"http://www.w3.org/2000/svg\" height=\"24px\"viewBox=\"0 0 24 24\"\n",
              "       width=\"24px\">\n",
              "    <path d=\"M0 0h24v24H0V0z\" fill=\"none\"/>\n",
              "    <path d=\"M18.56 5.44l.94 2.06.94-2.06 2.06-.94-2.06-.94-.94-2.06-.94 2.06-2.06.94zm-11 1L8.5 8.5l.94-2.06 2.06-.94-2.06-.94L8.5 2.5l-.94 2.06-2.06.94zm10 10l.94 2.06.94-2.06 2.06-.94-2.06-.94-.94-2.06-.94 2.06-2.06.94z\"/><path d=\"M17.41 7.96l-1.37-1.37c-.4-.4-.92-.59-1.43-.59-.52 0-1.04.2-1.43.59L10.3 9.45l-7.72 7.72c-.78.78-.78 2.05 0 2.83L4 21.41c.39.39.9.59 1.41.59.51 0 1.02-.2 1.41-.59l7.78-7.78 2.81-2.81c.8-.78.8-2.07 0-2.86zM5.41 20L4 18.59l7.72-7.72 1.47 1.35L5.41 20z\"/>\n",
              "  </svg>\n",
              "      </button>\n",
              "      \n",
              "  <style>\n",
              "    .colab-df-container {\n",
              "      display:flex;\n",
              "      flex-wrap:wrap;\n",
              "      gap: 12px;\n",
              "    }\n",
              "\n",
              "    .colab-df-convert {\n",
              "      background-color: #E8F0FE;\n",
              "      border: none;\n",
              "      border-radius: 50%;\n",
              "      cursor: pointer;\n",
              "      display: none;\n",
              "      fill: #1967D2;\n",
              "      height: 32px;\n",
              "      padding: 0 0 0 0;\n",
              "      width: 32px;\n",
              "    }\n",
              "\n",
              "    .colab-df-convert:hover {\n",
              "      background-color: #E2EBFA;\n",
              "      box-shadow: 0px 1px 2px rgba(60, 64, 67, 0.3), 0px 1px 3px 1px rgba(60, 64, 67, 0.15);\n",
              "      fill: #174EA6;\n",
              "    }\n",
              "\n",
              "    [theme=dark] .colab-df-convert {\n",
              "      background-color: #3B4455;\n",
              "      fill: #D2E3FC;\n",
              "    }\n",
              "\n",
              "    [theme=dark] .colab-df-convert:hover {\n",
              "      background-color: #434B5C;\n",
              "      box-shadow: 0px 1px 3px 1px rgba(0, 0, 0, 0.15);\n",
              "      filter: drop-shadow(0px 1px 2px rgba(0, 0, 0, 0.3));\n",
              "      fill: #FFFFFF;\n",
              "    }\n",
              "  </style>\n",
              "\n",
              "      <script>\n",
              "        const buttonEl =\n",
              "          document.querySelector('#df-83c78854-1e6f-42f8-8a96-aa17a8194881 button.colab-df-convert');\n",
              "        buttonEl.style.display =\n",
              "          google.colab.kernel.accessAllowed ? 'block' : 'none';\n",
              "\n",
              "        async function convertToInteractive(key) {\n",
              "          const element = document.querySelector('#df-83c78854-1e6f-42f8-8a96-aa17a8194881');\n",
              "          const dataTable =\n",
              "            await google.colab.kernel.invokeFunction('convertToInteractive',\n",
              "                                                     [key], {});\n",
              "          if (!dataTable) return;\n",
              "\n",
              "          const docLinkHtml = 'Like what you see? Visit the ' +\n",
              "            '<a target=\"_blank\" href=https://colab.research.google.com/notebooks/data_table.ipynb>data table notebook</a>'\n",
              "            + ' to learn more about interactive tables.';\n",
              "          element.innerHTML = '';\n",
              "          dataTable['output_type'] = 'display_data';\n",
              "          await google.colab.output.renderOutput(dataTable, element);\n",
              "          const docLink = document.createElement('div');\n",
              "          docLink.innerHTML = docLinkHtml;\n",
              "          element.appendChild(docLink);\n",
              "        }\n",
              "      </script>\n",
              "    </div>\n",
              "  </div>\n",
              "  "
            ]
          },
          "metadata": {},
          "execution_count": 23
        }
      ]
    },
    {
      "cell_type": "code",
      "source": [
        "newst.to_csv(\"RemovedOutliers.csv\")"
      ],
      "metadata": {
        "id": "KcIiZ3ndgPcO"
      },
      "execution_count": null,
      "outputs": []
    },
    {
      "cell_type": "markdown",
      "source": [
        "### Making the data ready"
      ],
      "metadata": {
        "id": "90TFH8B5OCJZ"
      }
    },
    {
      "cell_type": "code",
      "source": [
        "newx=newst[[\"Volume\"]].copy()"
      ],
      "metadata": {
        "id": "WU44o9tWHbot"
      },
      "execution_count": null,
      "outputs": []
    },
    {
      "cell_type": "code",
      "source": [
        "newy=newst[[\"Adj Close\"]].copy()"
      ],
      "metadata": {
        "id": "pR9LkXL0L6IO"
      },
      "execution_count": null,
      "outputs": []
    },
    {
      "cell_type": "markdown",
      "source": [
        "### New Leverage Plot"
      ],
      "metadata": {
        "id": "CV7Z6SlBOSIv"
      }
    },
    {
      "cell_type": "code",
      "source": [
        "newmodel = sm.OLS(newy, sm.add_constant(newx)).fit()"
      ],
      "metadata": {
        "id": "001K8RF4L6FL"
      },
      "execution_count": null,
      "outputs": []
    },
    {
      "cell_type": "code",
      "source": [
        "sm.graphics.influence_plot(newmodel)\n",
        "plt.savefig(\"After Removing Leverage PLot\")"
      ],
      "metadata": {
        "colab": {
          "base_uri": "https://localhost:8080/"
        },
        "id": "9Twovsi9L5_E",
        "outputId": "dc302bba-1c92-45fd-961f-8634cf011f3e"
      },
      "execution_count": null,
      "outputs": [
        {
          "output_type": "display_data",
          "data": {
            "text/plain": [
              "<Figure size 640x480 with 1 Axes>"
            ],
            "image/png": "[encoded data removed]"
          },
          "metadata": {}
        }
      ]
    },
    {
      "cell_type": "markdown",
      "source": [
        "### New Correlation Coefficient"
      ],
      "metadata": {
        "id": "tTW-UwGGM-oO"
      }
    },
    {
      "cell_type": "code",
      "source": [
        "newst[\"Adj Close\"].corr(newst[\"Volume\"])"
      ],
      "metadata": {
        "colab": {
          "base_uri": "https://localhost:8080/"
        },
        "id": "T9Us-Xh5L5wW",
        "outputId": "8d0f584e-7daf-4063-e771-b67d6fcf3322"
      },
      "execution_count": null,
      "outputs": [
        {
          "output_type": "execute_result",
          "data": {
            "text/plain": [
              "0.21368662347751452"
            ]
          },
          "metadata": {},
          "execution_count": 29
        }
      ]
    },
    {
      "cell_type": "markdown",
      "source": [
        "###**Linear** Regression"
      ],
      "metadata": {
        "id": "dV2kwSBx0To3"
      }
    },
    {
      "cell_type": "code",
      "source": [
        "result2 = regressor.fit(newx,newy)"
      ],
      "metadata": {
        "id": "PC8xBLpN9Rgs"
      },
      "execution_count": null,
      "outputs": []
    },
    {
      "cell_type": "code",
      "source": [
        "result2.coef_                                                          # Slope of the new function"
      ],
      "metadata": {
        "colab": {
          "base_uri": "https://localhost:8080/"
        },
        "id": "1Y3Rs8-54JUt",
        "outputId": "718216e5-e8c5-42f8-c985-0db3493b4249"
      },
      "execution_count": null,
      "outputs": [
        {
          "output_type": "execute_result",
          "data": {
            "text/plain": [
              "array([[4.56156933e-07]])"
            ]
          },
          "metadata": {},
          "execution_count": 31
        }
      ]
    },
    {
      "cell_type": "code",
      "source": [
        "result2.intercept_                                                     # Intercept of the new function"
      ],
      "metadata": {
        "colab": {
          "base_uri": "https://localhost:8080/"
        },
        "id": "Y5mFD4bf7Y48",
        "outputId": "8cda0f00-fcae-4d04-bf9c-f8b3dd43de41"
      },
      "execution_count": null,
      "outputs": [
        {
          "output_type": "execute_result",
          "data": {
            "text/plain": [
              "array([252.82169341])"
            ]
          },
          "metadata": {},
          "execution_count": 32
        }
      ]
    },
    {
      "cell_type": "code",
      "source": [
        "ypredict2=result2.predict(newx)"
      ],
      "metadata": {
        "id": "DXqDq9BqzRtw"
      },
      "execution_count": null,
      "outputs": []
    },
    {
      "cell_type": "code",
      "source": [
        "plt.scatter(newx,newy,color='r')\n",
        "plt.plot(newx,ypredict2,color='b')\n",
        "plt.title(\"Linear Regression\")\n",
        "plt.xlabel(\"Volume\")\n",
        "plt.ylabel(\"Stock Price\")\n",
        "plt.savefig(\"New Linear Regression\")"
      ],
      "metadata": {
        "id": "QO43cMvCzRrJ",
        "colab": {
          "base_uri": "https://localhost:8080/"
        },
        "outputId": "65d54c10-dd7a-42b2-ca3a-a10fbbdfc40d"
      },
      "execution_count": null,
      "outputs": [
        {
          "output_type": "display_data",
          "data": {
            "text/plain": [
              "<Figure size 640x480 with 1 Axes>"
            ],
            "image/png": "[encoded data removed]"
          },
          "metadata": {}
        }
      ]
    },
    {
      "cell_type": "markdown",
      "source": [
        "# Prediction"
      ],
      "metadata": {
        "id": "VPaVvKNtRUcI"
      }
    },
    {
      "cell_type": "code",
      "source": [
        "df=pd.read_csv(\"https://raw.githubusercontent.com/dudegladiator/Testing/main/test.csv\")                                             #Loading the testing data"
      ],
      "metadata": {
        "id": "3qqNFIBLzRoh"
      },
      "execution_count": null,
      "outputs": []
    },
    {
      "cell_type": "code",
      "source": [
        "ypredict3=result2.predict(df[[\"Volume\"]])"
      ],
      "metadata": {
        "id": "7bkNvjX8zRgb"
      },
      "execution_count": null,
      "outputs": []
    },
    {
      "cell_type": "code",
      "source": [
        "#Adding older datas\n",
        "ypredict3=np.insert(ypredict3, 0,239.220825, axis=0)\n",
        "ypredict3=np.insert(ypredict3, 0,240.407837, axis=0)\n",
        "ypredict3=np.insert(ypredict3, 0,233.944031, axis=0)"
      ],
      "metadata": {
        "id": "CTVPz5KSOhk1"
      },
      "execution_count": null,
      "outputs": []
    },
    {
      "cell_type": "code",
      "source": [
        "#Making the model more accurate by giving wieght to older datas\n",
        "for i in range(3,len(ypredict3),1):\n",
        "  ypredict3[i][0]=(ypredict3[i][0]+4*ypredict3[i-1][0]+3*ypredict3[i-2][0]+2*ypredict3[i-3][0]-10)/10\n"
      ],
      "metadata": {
        "id": "0xwTTtWLP8ao"
      },
      "execution_count": null,
      "outputs": []
    },
    {
      "cell_type": "code",
      "source": [
        "ypredict3=np.delete(ypredict3,[0,1,2])"
      ],
      "metadata": {
        "id": "ETBkr4mZQoEf"
      },
      "execution_count": null,
      "outputs": []
    },
    {
      "cell_type": "code",
      "source": [
        "df=df.drop(axis=1,labels=[\"Date\",\"Open\",\"High\",\"Low\",\"Close\",])"
      ],
      "metadata": {
        "id": "Kl-TNd5FzRWB"
      },
      "execution_count": null,
      "outputs": []
    },
    {
      "cell_type": "code",
      "source": [
        "df=pd.concat([df,pd.DataFrame(ypredict3)],axis=1)"
      ],
      "metadata": {
        "id": "ViLCU1FebnH3"
      },
      "execution_count": null,
      "outputs": []
    },
    {
      "cell_type": "code",
      "source": [
        "df=df.rename(columns={0:\"Predicted Price\"})"
      ],
      "metadata": {
        "id": "aCuN5u5AboD5"
      },
      "execution_count": null,
      "outputs": []
    },
    {
      "cell_type": "code",
      "source": [
        "df.head()"
      ],
      "metadata": {
        "id": "SHMnewzscEEg",
        "colab": {
          "base_uri": "https://localhost:8080/",
          "height": 206
        },
        "outputId": "03b0f2b1-f0bc-411a-f594-4cac62ba1e9a"
      },
      "execution_count": null,
      "outputs": [
        {
          "output_type": "execute_result",
          "data": {
            "text/plain": [
              "    Adj Close    Volume  Predicted Price\n",
              "0  238.981430  25740000       240.055805\n",
              "1  228.527618  50623400       242.461528\n",
              "2  221.754562  39585600       242.933411\n",
              "3  224.368011  43613600       244.194618\n",
              "4  226.552551  27369800       244.580838"
            ],
            "text/html": [
              "\n",
              "  <div id=\"df-e0b9e03b-675f-419a-8252-56e7b3ccbb8e\">\n",
              "    <div class=\"colab-df-container\">\n",
              "      <div>\n",
              "<style scoped>\n",
              "    .dataframe tbody tr th:only-of-type {\n",
              "        vertical-align: middle;\n",
              "    }\n",
              "\n",
              "    .dataframe tbody tr th {\n",
              "        vertical-align: top;\n",
              "    }\n",
              "\n",
              "    .dataframe thead th {\n",
              "        text-align: right;\n",
              "    }\n",
              "</style>\n",
              "<table border=\"1\" class=\"dataframe\">\n",
              "  <thead>\n",
              "    <tr style=\"text-align: right;\">\n",
              "      <th></th>\n",
              "      <th>Adj Close</th>\n",
              "      <th>Volume</th>\n",
              "      <th>Predicted Price</th>\n",
              "    </tr>\n",
              "  </thead>\n",
              "  <tbody>\n",
              "    <tr>\n",
              "      <th>0</th>\n",
              "      <td>238.981430</td>\n",
              "      <td>25740000</td>\n",
              "      <td>240.055805</td>\n",
              "    </tr>\n",
              "    <tr>\n",
              "      <th>1</th>\n",
              "      <td>228.527618</td>\n",
              "      <td>50623400</td>\n",
              "      <td>242.461528</td>\n",
              "    </tr>\n",
              "    <tr>\n",
              "      <th>2</th>\n",
              "      <td>221.754562</td>\n",
              "      <td>39585600</td>\n",
              "      <td>242.933411</td>\n",
              "    </tr>\n",
              "    <tr>\n",
              "      <th>3</th>\n",
              "      <td>224.368011</td>\n",
              "      <td>43613600</td>\n",
              "      <td>244.194618</td>\n",
              "    </tr>\n",
              "    <tr>\n",
              "      <th>4</th>\n",
              "      <td>226.552551</td>\n",
              "      <td>27369800</td>\n",
              "      <td>244.580838</td>\n",
              "    </tr>\n",
              "  </tbody>\n",
              "</table>\n",
              "</div>\n",
              "      <button class=\"colab-df-convert\" onclick=\"convertToInteractive('df-e0b9e03b-675f-419a-8252-56e7b3ccbb8e')\"\n",
              "              title=\"Convert this dataframe to an interactive table.\"\n",
              "              style=\"display:none;\">\n",
              "        \n",
              "  <svg xmlns=\"http://www.w3.org/2000/svg\" height=\"24px\"viewBox=\"0 0 24 24\"\n",
              "       width=\"24px\">\n",
              "    <path d=\"M0 0h24v24H0V0z\" fill=\"none\"/>\n",
              "    <path d=\"M18.56 5.44l.94 2.06.94-2.06 2.06-.94-2.06-.94-.94-2.06-.94 2.06-2.06.94zm-11 1L8.5 8.5l.94-2.06 2.06-.94-2.06-.94L8.5 2.5l-.94 2.06-2.06.94zm10 10l.94 2.06.94-2.06 2.06-.94-2.06-.94-.94-2.06-.94 2.06-2.06.94z\"/><path d=\"M17.41 7.96l-1.37-1.37c-.4-.4-.92-.59-1.43-.59-.52 0-1.04.2-1.43.59L10.3 9.45l-7.72 7.72c-.78.78-.78 2.05 0 2.83L4 21.41c.39.39.9.59 1.41.59.51 0 1.02-.2 1.41-.59l7.78-7.78 2.81-2.81c.8-.78.8-2.07 0-2.86zM5.41 20L4 18.59l7.72-7.72 1.47 1.35L5.41 20z\"/>\n",
              "  </svg>\n",
              "      </button>\n",
              "      \n",
              "  <style>\n",
              "    .colab-df-container {\n",
              "      display:flex;\n",
              "      flex-wrap:wrap;\n",
              "      gap: 12px;\n",
              "    }\n",
              "\n",
              "    .colab-df-convert {\n",
              "      background-color: #E8F0FE;\n",
              "      border: none;\n",
              "      border-radius: 50%;\n",
              "      cursor: pointer;\n",
              "      display: none;\n",
              "      fill: #1967D2;\n",
              "      height: 32px;\n",
              "      padding: 0 0 0 0;\n",
              "      width: 32px;\n",
              "    }\n",
              "\n",
              "    .colab-df-convert:hover {\n",
              "      background-color: #E2EBFA;\n",
              "      box-shadow: 0px 1px 2px rgba(60, 64, 67, 0.3), 0px 1px 3px 1px rgba(60, 64, 67, 0.15);\n",
              "      fill: #174EA6;\n",
              "    }\n",
              "\n",
              "    [theme=dark] .colab-df-convert {\n",
              "      background-color: #3B4455;\n",
              "      fill: #D2E3FC;\n",
              "    }\n",
              "\n",
              "    [theme=dark] .colab-df-convert:hover {\n",
              "      background-color: #434B5C;\n",
              "      box-shadow: 0px 1px 3px 1px rgba(0, 0, 0, 0.15);\n",
              "      filter: drop-shadow(0px 1px 2px rgba(0, 0, 0, 0.3));\n",
              "      fill: #FFFFFF;\n",
              "    }\n",
              "  </style>\n",
              "\n",
              "      <script>\n",
              "        const buttonEl =\n",
              "          document.querySelector('#df-e0b9e03b-675f-419a-8252-56e7b3ccbb8e button.colab-df-convert');\n",
              "        buttonEl.style.display =\n",
              "          google.colab.kernel.accessAllowed ? 'block' : 'none';\n",
              "\n",
              "        async function convertToInteractive(key) {\n",
              "          const element = document.querySelector('#df-e0b9e03b-675f-419a-8252-56e7b3ccbb8e');\n",
              "          const dataTable =\n",
              "            await google.colab.kernel.invokeFunction('convertToInteractive',\n",
              "                                                     [key], {});\n",
              "          if (!dataTable) return;\n",
              "\n",
              "          const docLinkHtml = 'Like what you see? Visit the ' +\n",
              "            '<a target=\"_blank\" href=https://colab.research.google.com/notebooks/data_table.ipynb>data table notebook</a>'\n",
              "            + ' to learn more about interactive tables.';\n",
              "          element.innerHTML = '';\n",
              "          dataTable['output_type'] = 'display_data';\n",
              "          await google.colab.output.renderOutput(dataTable, element);\n",
              "          const docLink = document.createElement('div');\n",
              "          docLink.innerHTML = docLinkHtml;\n",
              "          element.appendChild(docLink);\n",
              "        }\n",
              "      </script>\n",
              "    </div>\n",
              "  </div>\n",
              "  "
            ]
          },
          "metadata": {},
          "execution_count": 43
        }
      ]
    },
    {
      "cell_type": "code",
      "source": [
        "df.to_csv(\"PredictedPrice.csv\")"
      ],
      "metadata": {
        "id": "JEprawyHfCH1"
      },
      "execution_count": null,
      "outputs": []
    },
    {
      "cell_type": "code",
      "source": [
        "from sklearn.metrics import mean_squared_error\n",
        "rmse = mean_squared_error(df[\"Adj Close\"], df[\"Predicted Price\"],squared=False)"
      ],
      "metadata": {
        "id": "nZ2XXldMcnZ_"
      },
      "execution_count": null,
      "outputs": []
    },
    {
      "cell_type": "code",
      "source": [
        "rmse"
      ],
      "metadata": {
        "id": "irp5gDv5dMVF",
        "colab": {
          "base_uri": "https://localhost:8080/"
        },
        "outputId": "e92a2e29-c6f5-48f9-85af-4ca3b3a04f37"
      },
      "execution_count": null,
      "outputs": [
        {
          "output_type": "execute_result",
          "data": {
            "text/plain": [
              "10.18369782449089"
            ]
          },
          "metadata": {},
          "execution_count": 46
        }
      ]
    },
    {
      "cell_type": "markdown",
      "source": [
        "\n",
        "                                                             ***Thank You***\n"
      ],
      "metadata": {
        "id": "dAFNONWw4oPo"
      }
    }
  ]
}